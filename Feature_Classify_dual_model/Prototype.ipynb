{
 "cells": [
  {
   "cell_type": "code",
   "execution_count": 4,
   "metadata": {},
   "outputs": [],
   "source": [
    "import numpy as np\n",
    "import pandas as pd\n",
    "from datetime import datetime\n",
    "\n",
    "from keras import backend as K\n",
    "from keras.models import Sequential\n",
    "# from keras.layers import Conv2D, MaxPooling2D\n",
    "from keras.layers import Conv1D, MaxPooling1D, Conv2D, MaxPooling2D\n",
    "from keras.layers import Dropout\n",
    "from keras.layers import Dense\n",
    "from keras.layers import Flatten\n",
    "from keras.optimizers import Adam\n",
    "from sklearn.model_selection import train_test_split\n",
    "\n",
    "from hyperopt import fmin, tpe, hp, STATUS_OK, STATUS_FAIL, Trials\n",
    "from hyperopt.pyll.base import scope"
   ]
  },
  {
   "cell_type": "code",
   "execution_count": 68,
   "metadata": {},
   "outputs": [],
   "source": [
    "lang = 'ta'     # 'si', 'ta'\n",
    "expr = 'phonemes'  # 'ds1', 'ds2', 'phonemes'\n",
    "mtype = '1d_cnn'  # '1d_cnn', '2d_cnn\n",
    "\n",
    "csv_dic = {\n",
    "    'si': '../input/speechsi/formatted_data_v2.csv',\n",
    "    'ta': '../data/Tamil_Dataset/Tamil_Data.csv'\n",
    "}\n",
    "\n",
    "datax_dic = {\n",
    "    'si': {\n",
    "        'ds1': '../input/speechsi/ds_decode_data_v2_padded.npy', \n",
    "        'ds2': '../input/speechds2/ds2_decode_sinhala_data_v2_padded.npy',\n",
    "        'phonemes': '../input/speech-phonemes/phoneme_decode_sinhala_data_v2_padded.npy'\n",
    "    },\n",
    "    'ta': {\n",
    "        'ds1': '../input/speechta/ds_decode_tamil_data_v2_padded.npy', \n",
    "        'ds2': '../data/Tamil_Dataset/ds2_decode_Tamil_data_v2.npy',\n",
    "        'phonemes': '../data/Tamil_Dataset/phoneme_decode_Tamil_data_v2.npy'\n",
    "    }\n",
    "}"
   ]
  },
  {
   "cell_type": "code",
   "execution_count": 69,
   "metadata": {},
   "outputs": [
    {
     "name": "stdout",
     "output_type": "stream",
     "text": [
      "Total data samples   : 400\n",
      "Number of classes    : 6\n",
      "Occurrences of classes in total dataset\n",
      "[101  75  62  46  49  67]\n"
     ]
    }
   ],
   "source": [
    "# random number\n",
    "random_seed = 7\n",
    "np.random.seed(random_seed)\n",
    "\n",
    "# read csv and gey classes\n",
    "data = pd.read_csv(csv_dic[lang])\n",
    "\n",
    "data_y = data['intent']\n",
    "indices = np.arange(len(data_y))\n",
    "\n",
    "# load ds decoded output\n",
    "data_x = np.load(datax_dic[lang][expr], allow_pickle=True)\n",
    "\n",
    "\n",
    "num_of_classes = len(data_y.unique())\n",
    "print('Total data samples   :', data_x.shape[0])\n",
    "print('Number of classes    :', num_of_classes)\n",
    "\n",
    "# one hot encoding y values\n",
    "data_y = pd.get_dummies(data_y)\n",
    "# data_y['id'] = indices\n",
    "data_y = data_y.values\n",
    "\n",
    "# calculate total occurrences of classes\n",
    "print('Occurrences of classes in total dataset')\n",
    "print(data_y[:, 0:6].sum(axis=0))"
   ]
  },
  {
   "cell_type": "code",
   "execution_count": 70,
   "metadata": {},
   "outputs": [],
   "source": [
    "data_x_train, data_x_test, data_y_train, data_y_test = \\\n",
    "        train_test_split(data_x, data_y, test_size=0.2, random_state=random_seed)"
   ]
  },
  {
   "cell_type": "code",
   "execution_count": 73,
   "metadata": {},
   "outputs": [
    {
     "data": {
      "text/plain": [
       "(67, 42)"
      ]
     },
     "execution_count": 73,
     "metadata": {},
     "output_type": "execute_result"
    }
   ],
   "source": [
    "data_x_train[1].shape"
   ]
  },
  {
   "cell_type": "code",
   "execution_count": null,
   "metadata": {},
   "outputs": [],
   "source": []
  },
  {
   "cell_type": "code",
   "execution_count": 45,
   "metadata": {},
   "outputs": [],
   "source": [
    "data_x_train = np.reshape(data_x_train, (data_x_train.shape[0], data_x_train.shape[1], data_x_train.shape[2]))\n",
    "data_x_test = np.reshape(data_x_test, (data_x_test.shape[0], data_x_test.shape[1], data_x_test.shape[2]))"
   ]
  },
  {
   "cell_type": "code",
   "execution_count": 48,
   "metadata": {},
   "outputs": [
    {
     "data": {
      "text/plain": [
       "(555, 29)"
      ]
     },
     "execution_count": 48,
     "metadata": {},
     "output_type": "execute_result"
    }
   ],
   "source": [
    "data_x_train[10].shape"
   ]
  },
  {
   "cell_type": "code",
   "execution_count": 38,
   "metadata": {},
   "outputs": [
    {
     "data": {
      "text/plain": [
       "1.0"
      ]
     },
     "execution_count": 38,
     "metadata": {},
     "output_type": "execute_result"
    }
   ],
   "source": []
  },
  {
   "cell_type": "code",
   "execution_count": null,
   "metadata": {},
   "outputs": [],
   "source": []
  }
 ],
 "metadata": {
  "kernelspec": {
   "display_name": "Python 3",
   "language": "python",
   "name": "python3"
  },
  "language_info": {
   "codemirror_mode": {
    "name": "ipython",
    "version": 3
   },
   "file_extension": ".py",
   "mimetype": "text/x-python",
   "name": "python",
   "nbconvert_exporter": "python",
   "pygments_lexer": "ipython3",
   "version": "3.6.8"
  }
 },
 "nbformat": 4,
 "nbformat_minor": 5
}
